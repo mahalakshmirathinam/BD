{
  "nbformat": 4,
  "nbformat_minor": 0,
  "metadata": {
    "colab": {
      "provenance": [],
      "mount_file_id": "1UZEjz5Co-LAgN3jZvWSHAnkOZ2T05e12",
      "authorship_tag": "ABX9TyPFChA9OT7VUI2TEFwBjEMw",
      "include_colab_link": true
    },
    "kernelspec": {
      "name": "python3",
      "display_name": "Python 3"
    },
    "language_info": {
      "name": "python"
    }
  },
  "cells": [
    {
      "cell_type": "markdown",
      "metadata": {
        "id": "view-in-github",
        "colab_type": "text"
      },
      "source": [
        "<a href=\"https://colab.research.google.com/github/mahalakshmirathinam/BD/blob/master/SentimentAnalysis.ipynb\" target=\"_parent\"><img src=\"https://colab.research.google.com/assets/colab-badge.svg\" alt=\"Open In Colab\"/></a>"
      ]
    },
    {
      "cell_type": "code",
      "execution_count": null,
      "metadata": {
        "id": "yWqdDEpYiq8T"
      },
      "outputs": [],
      "source": [
        "# Sentiment Analysis using pre trained model\n",
        "# model  spacy en_core_web_t\n",
        "# Step 1 : download the model\n",
        "# Step 2: Get the data set : IMDB move review dataset\n",
        "# Step 3:  GEt the predictions\n",
        "# Step 4: Evaluate and predict the results\n",
        "import spacy\n",
        "import pandas as pd\n",
        "import os\n",
        "print(os.getcwd())\n",
        "#!python -m spacy download en_core_web_trf\n",
        "nlp = spacy.load(\"en_core_web_trf\")\n",
        "\n",
        "\n",
        "df = pd.read_csv('IMDB Dataset.csv')\n",
        "sample = df.review[0]\n",
        "df = pd.read_csv('IMDB Dataset.csv')\n",
        "result = nlp(sample)\n",
        "print(result)\n",
        "result.cats"
      ]
    },
    {
      "cell_type": "markdown",
      "source": [
        "# New Section"
      ],
      "metadata": {
        "id": "1kG1N4KOkwpP"
      }
    }
  ]
}